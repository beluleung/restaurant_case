{
 "cells": [
  {
   "cell_type": "markdown",
   "metadata": {
    "pycharm": {
     "name": "#%% md\n"
    }
   },
   "source": [
    "## 1. Dataset cleaning"
   ]
  },
  {
   "cell_type": "markdown",
   "metadata": {},
   "source": [
    "Package set up"
   ]
  },
  {
   "cell_type": "code",
   "execution_count": 1,
   "metadata": {
    "collapsed": false,
    "pycharm": {
     "name": "#%%\n"
    }
   },
   "outputs": [
    {
     "name": "stdout",
     "output_type": "stream",
     "text": [
      "Requirement already satisfied: chars2vec in /Users/belu/.pyenv/versions/3.8.12/envs/lewagon/lib/python3.8/site-packages (0.1.7)\n",
      "Note: you may need to restart the kernel to use updated packages.\n",
      "Requirement already satisfied: keras in /Users/belu/.pyenv/versions/3.8.12/envs/lewagon/lib/python3.8/site-packages (2.7.0)\n",
      "Note: you may need to restart the kernel to use updated packages.\n",
      "Requirement already satisfied: tensorflow in /Users/belu/.pyenv/versions/3.8.12/envs/lewagon/lib/python3.8/site-packages (2.7.0)\n",
      "Requirement already satisfied: keras<2.8,>=2.7.0rc0 in /Users/belu/.pyenv/versions/3.8.12/envs/lewagon/lib/python3.8/site-packages (from tensorflow) (2.7.0)\n",
      "Requirement already satisfied: numpy>=1.14.5 in /Users/belu/.pyenv/versions/3.8.12/envs/lewagon/lib/python3.8/site-packages (from tensorflow) (1.18.5)\n",
      "Requirement already satisfied: absl-py>=0.4.0 in /Users/belu/.pyenv/versions/3.8.12/envs/lewagon/lib/python3.8/site-packages (from tensorflow) (0.12.0)\n",
      "Requirement already satisfied: wheel<1.0,>=0.32.0 in /Users/belu/.pyenv/versions/3.8.12/envs/lewagon/lib/python3.8/site-packages (from tensorflow) (0.37.1)\n",
      "Requirement already satisfied: flatbuffers<3.0,>=1.12 in /Users/belu/.pyenv/versions/3.8.12/envs/lewagon/lib/python3.8/site-packages (from tensorflow) (2.0)\n",
      "Requirement already satisfied: keras-preprocessing>=1.1.1 in /Users/belu/.pyenv/versions/3.8.12/envs/lewagon/lib/python3.8/site-packages (from tensorflow) (1.1.2)\n",
      "Requirement already satisfied: typing-extensions>=3.6.6 in /Users/belu/.pyenv/versions/3.8.12/envs/lewagon/lib/python3.8/site-packages (from tensorflow) (4.0.1)\n",
      "Requirement already satisfied: grpcio<2.0,>=1.24.3 in /Users/belu/.pyenv/versions/3.8.12/envs/lewagon/lib/python3.8/site-packages (from tensorflow) (1.43.0)\n",
      "Requirement already satisfied: astunparse>=1.6.0 in /Users/belu/.pyenv/versions/3.8.12/envs/lewagon/lib/python3.8/site-packages (from tensorflow) (1.6.3)\n",
      "Requirement already satisfied: tensorflow-io-gcs-filesystem>=0.21.0 in /Users/belu/.pyenv/versions/3.8.12/envs/lewagon/lib/python3.8/site-packages (from tensorflow) (0.23.1)\n",
      "Requirement already satisfied: wrapt>=1.11.0 in /Users/belu/.pyenv/versions/3.8.12/envs/lewagon/lib/python3.8/site-packages (from tensorflow) (1.12.1)\n",
      "Requirement already satisfied: tensorboard~=2.6 in /Users/belu/.pyenv/versions/3.8.12/envs/lewagon/lib/python3.8/site-packages (from tensorflow) (2.7.0)\n",
      "Requirement already satisfied: gast<0.5.0,>=0.2.1 in /Users/belu/.pyenv/versions/3.8.12/envs/lewagon/lib/python3.8/site-packages (from tensorflow) (0.4.0)\n",
      "Requirement already satisfied: tensorflow-estimator<2.8,~=2.7.0rc0 in /Users/belu/.pyenv/versions/3.8.12/envs/lewagon/lib/python3.8/site-packages (from tensorflow) (2.7.0)\n",
      "Requirement already satisfied: h5py>=2.9.0 in /Users/belu/.pyenv/versions/3.8.12/envs/lewagon/lib/python3.8/site-packages (from tensorflow) (3.6.0)\n",
      "Requirement already satisfied: termcolor>=1.1.0 in /Users/belu/.pyenv/versions/3.8.12/envs/lewagon/lib/python3.8/site-packages (from tensorflow) (1.1.0)\n",
      "Requirement already satisfied: libclang>=9.0.1 in /Users/belu/.pyenv/versions/3.8.12/envs/lewagon/lib/python3.8/site-packages (from tensorflow) (12.0.0)\n",
      "Requirement already satisfied: opt-einsum>=2.3.2 in /Users/belu/.pyenv/versions/3.8.12/envs/lewagon/lib/python3.8/site-packages (from tensorflow) (3.3.0)\n",
      "Requirement already satisfied: protobuf>=3.9.2 in /Users/belu/.pyenv/versions/3.8.12/envs/lewagon/lib/python3.8/site-packages (from tensorflow) (3.19.1)\n",
      "Requirement already satisfied: google-pasta>=0.1.1 in /Users/belu/.pyenv/versions/3.8.12/envs/lewagon/lib/python3.8/site-packages (from tensorflow) (0.2.0)\n",
      "Requirement already satisfied: six>=1.12.0 in /Users/belu/.pyenv/versions/3.8.12/envs/lewagon/lib/python3.8/site-packages (from tensorflow) (1.14.0)\n",
      "Requirement already satisfied: google-auth-oauthlib<0.5,>=0.4.1 in /Users/belu/.pyenv/versions/3.8.12/envs/lewagon/lib/python3.8/site-packages (from tensorboard~=2.6->tensorflow) (0.4.6)\n",
      "Requirement already satisfied: tensorboard-data-server<0.7.0,>=0.6.0 in /Users/belu/.pyenv/versions/3.8.12/envs/lewagon/lib/python3.8/site-packages (from tensorboard~=2.6->tensorflow) (0.6.1)\n",
      "Requirement already satisfied: tensorboard-plugin-wit>=1.6.0 in /Users/belu/.pyenv/versions/3.8.12/envs/lewagon/lib/python3.8/site-packages (from tensorboard~=2.6->tensorflow) (1.8.1)\n",
      "Requirement already satisfied: google-auth<3,>=1.6.3 in /Users/belu/.pyenv/versions/3.8.12/envs/lewagon/lib/python3.8/site-packages (from tensorboard~=2.6->tensorflow) (2.3.3)\n",
      "Requirement already satisfied: requests<3,>=2.21.0 in /Users/belu/.pyenv/versions/3.8.12/envs/lewagon/lib/python3.8/site-packages (from tensorboard~=2.6->tensorflow) (2.27.1)\n",
      "Requirement already satisfied: setuptools>=41.0.0 in /Users/belu/.pyenv/versions/3.8.12/envs/lewagon/lib/python3.8/site-packages (from tensorboard~=2.6->tensorflow) (56.0.0)\n",
      "Requirement already satisfied: werkzeug>=0.11.15 in /Users/belu/.pyenv/versions/3.8.12/envs/lewagon/lib/python3.8/site-packages (from tensorboard~=2.6->tensorflow) (2.0.2)\n",
      "Requirement already satisfied: markdown>=2.6.8 in /Users/belu/.pyenv/versions/3.8.12/envs/lewagon/lib/python3.8/site-packages (from tensorboard~=2.6->tensorflow) (3.3.6)\n",
      "Requirement already satisfied: rsa<5,>=3.1.4 in /Users/belu/.pyenv/versions/3.8.12/envs/lewagon/lib/python3.8/site-packages (from google-auth<3,>=1.6.3->tensorboard~=2.6->tensorflow) (4.8)\n",
      "Requirement already satisfied: cachetools<5.0,>=2.0.0 in /Users/belu/.pyenv/versions/3.8.12/envs/lewagon/lib/python3.8/site-packages (from google-auth<3,>=1.6.3->tensorboard~=2.6->tensorflow) (4.2.4)\n",
      "Requirement already satisfied: pyasn1-modules>=0.2.1 in /Users/belu/.pyenv/versions/3.8.12/envs/lewagon/lib/python3.8/site-packages (from google-auth<3,>=1.6.3->tensorboard~=2.6->tensorflow) (0.2.8)\n",
      "Requirement already satisfied: requests-oauthlib>=0.7.0 in /Users/belu/.pyenv/versions/3.8.12/envs/lewagon/lib/python3.8/site-packages (from google-auth-oauthlib<0.5,>=0.4.1->tensorboard~=2.6->tensorflow) (1.3.0)\n",
      "Requirement already satisfied: importlib-metadata>=4.4 in /Users/belu/.pyenv/versions/3.8.12/envs/lewagon/lib/python3.8/site-packages (from markdown>=2.6.8->tensorboard~=2.6->tensorflow) (4.10.0)\n",
      "Requirement already satisfied: urllib3<1.27,>=1.21.1 in /Users/belu/.pyenv/versions/3.8.12/envs/lewagon/lib/python3.8/site-packages (from requests<3,>=2.21.0->tensorboard~=2.6->tensorflow) (1.26.7)\n",
      "Requirement already satisfied: certifi>=2017.4.17 in /Users/belu/.pyenv/versions/3.8.12/envs/lewagon/lib/python3.8/site-packages (from requests<3,>=2.21.0->tensorboard~=2.6->tensorflow) (2021.10.8)\n",
      "Requirement already satisfied: idna<4,>=2.5 in /Users/belu/.pyenv/versions/3.8.12/envs/lewagon/lib/python3.8/site-packages (from requests<3,>=2.21.0->tensorboard~=2.6->tensorflow) (3.3)\n",
      "Requirement already satisfied: charset-normalizer~=2.0.0 in /Users/belu/.pyenv/versions/3.8.12/envs/lewagon/lib/python3.8/site-packages (from requests<3,>=2.21.0->tensorboard~=2.6->tensorflow) (2.0.10)\n",
      "Requirement already satisfied: zipp>=0.5 in /Users/belu/.pyenv/versions/3.8.12/envs/lewagon/lib/python3.8/site-packages (from importlib-metadata>=4.4->markdown>=2.6.8->tensorboard~=2.6->tensorflow) (3.7.0)\n",
      "Requirement already satisfied: pyasn1<0.5.0,>=0.4.6 in /Users/belu/.pyenv/versions/3.8.12/envs/lewagon/lib/python3.8/site-packages (from pyasn1-modules>=0.2.1->google-auth<3,>=1.6.3->tensorboard~=2.6->tensorflow) (0.4.8)\n",
      "Requirement already satisfied: oauthlib>=3.0.0 in /Users/belu/.pyenv/versions/3.8.12/envs/lewagon/lib/python3.8/site-packages (from requests-oauthlib>=0.7.0->google-auth-oauthlib<0.5,>=0.4.1->tensorboard~=2.6->tensorflow) (3.1.1)\n",
      "Note: you may need to restart the kernel to use updated packages.\n",
      "Requirement already satisfied: sklearn in /Users/belu/.pyenv/versions/3.8.12/envs/lewagon/lib/python3.8/site-packages (0.0)\n",
      "Requirement already satisfied: scikit-learn in /Users/belu/.pyenv/versions/3.8.12/envs/lewagon/lib/python3.8/site-packages (from sklearn) (0.22)\n",
      "Requirement already satisfied: numpy>=1.11.0 in /Users/belu/.pyenv/versions/3.8.12/envs/lewagon/lib/python3.8/site-packages (from scikit-learn->sklearn) (1.18.5)\n",
      "Requirement already satisfied: joblib>=0.11 in /Users/belu/.pyenv/versions/3.8.12/envs/lewagon/lib/python3.8/site-packages (from scikit-learn->sklearn) (1.0.1)\n",
      "Requirement already satisfied: scipy>=0.17.0 in /Users/belu/.pyenv/versions/3.8.12/envs/lewagon/lib/python3.8/site-packages (from scikit-learn->sklearn) (1.7.3)\n",
      "Note: you may need to restart the kernel to use updated packages.\n",
      "Requirement already satisfied: geopy in /Users/belu/.pyenv/versions/3.8.12/envs/lewagon/lib/python3.8/site-packages (2.2.0)\n",
      "Requirement already satisfied: geographiclib<2,>=1.49 in /Users/belu/.pyenv/versions/3.8.12/envs/lewagon/lib/python3.8/site-packages (from geopy) (1.52)\n",
      "Note: you may need to restart the kernel to use updated packages.\n",
      "Requirement already satisfied: reverse_geocoder in /Users/belu/.pyenv/versions/3.8.12/envs/lewagon/lib/python3.8/site-packages (1.5.1)\n",
      "Requirement already satisfied: scipy>=0.17.1 in /Users/belu/.pyenv/versions/3.8.12/envs/lewagon/lib/python3.8/site-packages (from reverse_geocoder) (1.7.3)\n",
      "Requirement already satisfied: numpy>=1.11.0 in /Users/belu/.pyenv/versions/3.8.12/envs/lewagon/lib/python3.8/site-packages (from reverse_geocoder) (1.18.5)\n",
      "Note: you may need to restart the kernel to use updated packages.\n"
     ]
    }
   ],
   "source": [
    "%pip install chars2vec\n",
    "%pip install keras\n",
    "%pip install tensorflow\n",
    "%pip install sklearn\n",
    "%pip install geopy\n",
    "%pip install reverse_geocoder"
   ]
  },
  {
   "cell_type": "code",
   "execution_count": 2,
   "metadata": {},
   "outputs": [],
   "source": [
    "%load_ext autoreload\n",
    "%autoreload 2\n",
    "\n",
    "import pandas as pd\n",
    "# no warning message and no exception is raised\n",
    "pd.options.mode.chained_assignment = None\n",
    "from utilities import basic_cleaning, restaurant_name_to_group_id, split_by_geo_locations, get_city_state_country"
   ]
  },
  {
   "cell_type": "markdown",
   "metadata": {},
   "source": [
    "## Import dataset"
   ]
  },
  {
   "cell_type": "code",
   "execution_count": 3,
   "metadata": {
    "pycharm": {
     "name": "#%%\n"
    }
   },
   "outputs": [
    {
     "name": "stderr",
     "output_type": "stream",
     "text": [
      "/Users/belu/.pyenv/versions/lewagon/lib/python3.8/site-packages/IPython/core/interactiveshell.py:3457: DtypeWarning: Columns (0,4,5,6,8,10,11) have mixed types.Specify dtype option on import or set low_memory=False.\n",
      "  exec(code_obj, self.user_global_ns, self.user_ns)\n"
     ]
    },
    {
     "data": {
      "text/html": [
       "<div>\n",
       "<style scoped>\n",
       "    .dataframe tbody tr th:only-of-type {\n",
       "        vertical-align: middle;\n",
       "    }\n",
       "\n",
       "    .dataframe tbody tr th {\n",
       "        vertical-align: top;\n",
       "    }\n",
       "\n",
       "    .dataframe thead th {\n",
       "        text-align: right;\n",
       "    }\n",
       "</style>\n",
       "<table border=\"1\" class=\"dataframe\">\n",
       "  <thead>\n",
       "    <tr style=\"text-align: right;\">\n",
       "      <th></th>\n",
       "      <th>restaurant_id</th>\n",
       "      <th>name</th>\n",
       "      <th>platform</th>\n",
       "      <th>sub_platform</th>\n",
       "      <th>latitude</th>\n",
       "      <th>longitude</th>\n",
       "      <th>city</th>\n",
       "      <th>country</th>\n",
       "      <th>active</th>\n",
       "      <th>standardized_name</th>\n",
       "      <th>restaurant_chain</th>\n",
       "      <th>delivery_radius</th>\n",
       "      <th>geom</th>\n",
       "    </tr>\n",
       "  </thead>\n",
       "  <tbody>\n",
       "    <tr>\n",
       "      <th>0</th>\n",
       "      <td>9744</td>\n",
       "      <td>Loco Coco</td>\n",
       "      <td>caviar</td>\n",
       "      <td>NaN</td>\n",
       "      <td>40.765004</td>\n",
       "      <td>-73.965961</td>\n",
       "      <td>NaN</td>\n",
       "      <td>US</td>\n",
       "      <td>True</td>\n",
       "      <td>loco_coco</td>\n",
       "      <td>NaN</td>\n",
       "      <td>NaN</td>\n",
       "      <td>NaN</td>\n",
       "    </tr>\n",
       "    <tr>\n",
       "      <th>1</th>\n",
       "      <td>4903</td>\n",
       "      <td>Musubi</td>\n",
       "      <td>caviar</td>\n",
       "      <td>NaN</td>\n",
       "      <td>45.504641</td>\n",
       "      <td>-122.643806</td>\n",
       "      <td>NaN</td>\n",
       "      <td>US</td>\n",
       "      <td>False</td>\n",
       "      <td>musubi</td>\n",
       "      <td>NaN</td>\n",
       "      <td>NaN</td>\n",
       "      <td>NaN</td>\n",
       "    </tr>\n",
       "    <tr>\n",
       "      <th>2</th>\n",
       "      <td>4723</td>\n",
       "      <td>The Bakers' Lounge</td>\n",
       "      <td>caviar</td>\n",
       "      <td>NaN</td>\n",
       "      <td>38.924559</td>\n",
       "      <td>-76.990115</td>\n",
       "      <td>NaN</td>\n",
       "      <td>US</td>\n",
       "      <td>False</td>\n",
       "      <td>the_bakers_lounge</td>\n",
       "      <td>NaN</td>\n",
       "      <td>NaN</td>\n",
       "      <td>NaN</td>\n",
       "    </tr>\n",
       "    <tr>\n",
       "      <th>3</th>\n",
       "      <td>4128</td>\n",
       "      <td>Parm - Battery Park City</td>\n",
       "      <td>caviar</td>\n",
       "      <td>NaN</td>\n",
       "      <td>40.71418</td>\n",
       "      <td>-74.015568</td>\n",
       "      <td>NaN</td>\n",
       "      <td>US</td>\n",
       "      <td>True</td>\n",
       "      <td>parm_-_battery_park_city</td>\n",
       "      <td>NaN</td>\n",
       "      <td>NaN</td>\n",
       "      <td>NaN</td>\n",
       "    </tr>\n",
       "    <tr>\n",
       "      <th>4</th>\n",
       "      <td>5690</td>\n",
       "      <td>Derek Test Merchant</td>\n",
       "      <td>caviar</td>\n",
       "      <td>NaN</td>\n",
       "      <td>1.0</td>\n",
       "      <td>2.0</td>\n",
       "      <td>NaN</td>\n",
       "      <td>US</td>\n",
       "      <td>False</td>\n",
       "      <td>derek_test_merchant</td>\n",
       "      <td>NaN</td>\n",
       "      <td>NaN</td>\n",
       "      <td>NaN</td>\n",
       "    </tr>\n",
       "  </tbody>\n",
       "</table>\n",
       "</div>"
      ],
      "text/plain": [
       "  restaurant_id                      name platform sub_platform   latitude  \\\n",
       "0          9744                 Loco Coco   caviar          NaN  40.765004   \n",
       "1          4903                    Musubi   caviar          NaN  45.504641   \n",
       "2          4723        The Bakers' Lounge   caviar          NaN  38.924559   \n",
       "3          4128  Parm - Battery Park City   caviar          NaN   40.71418   \n",
       "4          5690       Derek Test Merchant   caviar          NaN        1.0   \n",
       "\n",
       "    longitude city country active         standardized_name restaurant_chain  \\\n",
       "0  -73.965961  NaN      US   True                 loco_coco              NaN   \n",
       "1 -122.643806  NaN      US  False                    musubi              NaN   \n",
       "2  -76.990115  NaN      US  False         the_bakers_lounge              NaN   \n",
       "3  -74.015568  NaN      US   True  parm_-_battery_park_city              NaN   \n",
       "4         2.0  NaN      US  False       derek_test_merchant              NaN   \n",
       "\n",
       "  delivery_radius  geom  \n",
       "0             NaN   NaN  \n",
       "1             NaN   NaN  \n",
       "2             NaN   NaN  \n",
       "3             NaN   NaN  \n",
       "4             NaN   NaN  "
      ]
     },
     "execution_count": 3,
     "metadata": {},
     "output_type": "execute_result"
    }
   ],
   "source": [
    "#sep to read ctrl-a as delimiter csv\n",
    "#Cut the first 20k due to limited computing power\n",
    "df = pd.read_csv('css_public_all_ofos_locations.csv', sep='\\x01')[:20000]\n",
    "df.head()"
   ]
  },
  {
   "cell_type": "code",
   "execution_count": 4,
   "metadata": {},
   "outputs": [
    {
     "name": "stdout",
     "output_type": "stream",
     "text": [
      "<class 'pandas.core.frame.DataFrame'>\n",
      "RangeIndex: 20000 entries, 0 to 19999\n",
      "Data columns (total 13 columns):\n",
      " #   Column             Non-Null Count  Dtype  \n",
      "---  ------             --------------  -----  \n",
      " 0   restaurant_id      20000 non-null  object \n",
      " 1   name               20000 non-null  object \n",
      " 2   platform           20000 non-null  object \n",
      " 3   sub_platform       2 non-null      object \n",
      " 4   latitude           20000 non-null  object \n",
      " 5   longitude          20000 non-null  object \n",
      " 6   city               0 non-null      object \n",
      " 7   country            20000 non-null  object \n",
      " 8   active             20000 non-null  object \n",
      " 9   standardized_name  20000 non-null  object \n",
      " 10  restaurant_chain   0 non-null      object \n",
      " 11  delivery_radius    0 non-null      object \n",
      " 12  geom               0 non-null      float64\n",
      "dtypes: float64(1), object(12)\n",
      "memory usage: 2.0+ MB\n"
     ]
    }
   ],
   "source": [
    "df.info()"
   ]
  },
  {
   "cell_type": "markdown",
   "metadata": {},
   "source": [
    "## Data preprocessing"
   ]
  },
  {
   "cell_type": "markdown",
   "metadata": {},
   "source": [
    "1) Drop duplicates based on 'name', 'platform', 'latitude', 'longitude'\n",
    "<br>\n",
    "2) 'Name' column: convert to lower case, trimmed white spaces and remove special characters\n",
    "<br>\n",
    "3) Format the 'active' column\n",
    "<br>\n",
    "4) Remove na in 'latitude', 'longitude', remove latitude >90"
   ]
  },
  {
   "cell_type": "code",
   "execution_count": 5,
   "metadata": {},
   "outputs": [
    {
     "name": "stdout",
     "output_type": "stream",
     "text": [
      "original dataset shape (20000, 13)\n",
      "0 null in name columns are found and removed\n",
      "0 unknown in columns latitude/logitude are found and removed\n",
      "1392 duplicated rows are found and removed\n",
      "0 unknown coordinates are found and removed\n",
      "clean dataset shape (18604, 13)\n"
     ]
    }
   ],
   "source": [
    "df = basic_cleaning(df)"
   ]
  },
  {
   "cell_type": "code",
   "execution_count": 6,
   "metadata": {
    "collapsed": false,
    "pycharm": {
     "name": "#%%\n"
    }
   },
   "outputs": [
    {
     "data": {
      "text/plain": [
       "array(['loco coco', 'musubi', \"the bakers' lounge\", ...,\n",
       "       \"wok 'n roll catering\", \"rotolo's pizza\", 'pines of italy'],\n",
       "      dtype=object)"
      ]
     },
     "execution_count": 6,
     "metadata": {},
     "output_type": "execute_result"
    }
   ],
   "source": [
    "restaurant_names = df['name'].to_numpy()\n",
    "restaurant_names"
   ]
  },
  {
   "cell_type": "markdown",
   "metadata": {},
   "source": [
    "# 2. Clustering to group restaurants with similar names"
   ]
  },
  {
   "cell_type": "markdown",
   "metadata": {},
   "source": [
    "### Converting raw text into a numerical representation"
   ]
  },
  {
   "cell_type": "code",
   "execution_count": 7,
   "metadata": {
    "collapsed": false,
    "pycharm": {
     "name": "#%%\n"
    }
   },
   "outputs": [
    {
     "name": "stderr",
     "output_type": "stream",
     "text": [
      "2022-09-09 14:19:23.887511: I tensorflow/core/platform/cpu_feature_guard.cc:151] This TensorFlow binary is optimized with oneAPI Deep Neural Network Library (oneDNN) to use the following CPU instructions in performance-critical operations:  AVX2 FMA\n",
      "To enable them in other operations, rebuild TensorFlow with the appropriate compiler flags.\n"
     ]
    },
    {
     "data": {
      "text/plain": [
       "array([[ 0.550715  , -0.12793979,  0.5607905 , ...,  0.09104574,\n",
       "         0.9665262 , -0.19177836],\n",
       "       [ 0.355227  , -0.38183346, -0.09432247, ...,  0.85210216,\n",
       "        -0.47786507,  0.45215708],\n",
       "       [ 0.53569144, -0.5265404 , -0.966452  , ...,  0.6271233 ,\n",
       "         0.32814574, -0.76336664],\n",
       "       ...,\n",
       "       [-0.12941451, -0.804009  , -0.96525055, ...,  0.64572597,\n",
       "         0.6509175 , -0.5678552 ],\n",
       "       [ 0.6052803 , -0.15172058, -0.75829977, ...,  0.57188314,\n",
       "         0.65813637, -0.4801365 ],\n",
       "       [-0.12954403, -0.7627279 , -0.24654287, ..., -0.10202555,\n",
       "         0.5789371 , -0.67318213]], dtype=float32)"
      ]
     },
     "execution_count": 7,
     "metadata": {},
     "output_type": "execute_result"
    }
   ],
   "source": [
    "import chars2vec\n",
    "import keras\n",
    "import tensorflow.keras\n",
    "\n",
    "# extract features from restaurant names\n",
    "c2v_model = chars2vec.load_model('eng_50')\n",
    "word_features = c2v_model.vectorize_words(restaurant_names)\n",
    "word_features"
   ]
  },
  {
   "cell_type": "markdown",
   "metadata": {},
   "source": [
    "### Clustering"
   ]
  },
  {
   "cell_type": "code",
   "execution_count": 8,
   "metadata": {
    "collapsed": false,
    "pycharm": {
     "name": "#%%\n"
    }
   },
   "outputs": [
    {
     "name": "stdout",
     "output_type": "stream",
     "text": [
      "total clusters: 16976\n"
     ]
    },
    {
     "data": {
      "text/plain": [
       "array([  0.        ,   0.        ,   0.        , ...,  76.81390656,\n",
       "       110.24879568, 149.5172345 ])"
      ]
     },
     "execution_count": 8,
     "metadata": {},
     "output_type": "execute_result"
    }
   ],
   "source": [
    "from sklearn.cluster import AgglomerativeClustering\n",
    "\n",
    "clustering = AgglomerativeClustering(\n",
    "    n_clusters=None,\n",
    "    distance_threshold=0.3  # smaller threshold meaning more strict similarities, and more clusters\n",
    ").fit(word_features)\n",
    "\n",
    "print(f'total clusters: {clustering.n_clusters_}')\n",
    "clustering.distances_"
   ]
  },
  {
   "cell_type": "markdown",
   "metadata": {},
   "source": [
    "### Append group id based on cluster results"
   ]
  },
  {
   "cell_type": "code",
   "execution_count": 9,
   "metadata": {},
   "outputs": [
    {
     "data": {
      "text/plain": [
       "(18604, 14)"
      ]
     },
     "execution_count": 9,
     "metadata": {},
     "output_type": "execute_result"
    }
   ],
   "source": [
    "restaurant_name_to_group_id(df, restaurant_names, clustering)\n",
    "df.shape"
   ]
  },
  {
   "cell_type": "markdown",
   "metadata": {},
   "source": [
    "# 3. Deduplicate based on lat and long"
   ]
  },
  {
   "cell_type": "markdown",
   "metadata": {},
   "source": [
    "### Within cluster groups, calculate distance between each other, drop duplicates if distance less than 200m "
   ]
  },
  {
   "cell_type": "code",
   "execution_count": 10,
   "metadata": {},
   "outputs": [
    {
     "data": {
      "text/plain": [
       "(18356, 14)"
      ]
     },
     "execution_count": 10,
     "metadata": {},
     "output_type": "execute_result"
    }
   ],
   "source": [
    "df = df.groupby('group_id').apply(split_by_geo_locations).reset_index(drop=True)\n",
    "df.shape"
   ]
  },
  {
   "cell_type": "markdown",
   "metadata": {},
   "source": [
    "### Append city, state and country based on coordinates"
   ]
  },
  {
   "cell_type": "code",
   "execution_count": 11,
   "metadata": {},
   "outputs": [
    {
     "name": "stdout",
     "output_type": "stream",
     "text": [
      "Loading formatted geocoded file...\n"
     ]
    },
    {
     "data": {
      "text/html": [
       "<div>\n",
       "<style scoped>\n",
       "    .dataframe tbody tr th:only-of-type {\n",
       "        vertical-align: middle;\n",
       "    }\n",
       "\n",
       "    .dataframe tbody tr th {\n",
       "        vertical-align: top;\n",
       "    }\n",
       "\n",
       "    .dataframe thead th {\n",
       "        text-align: right;\n",
       "    }\n",
       "</style>\n",
       "<table border=\"1\" class=\"dataframe\">\n",
       "  <thead>\n",
       "    <tr style=\"text-align: right;\">\n",
       "      <th></th>\n",
       "      <th>restaurant_id</th>\n",
       "      <th>name</th>\n",
       "      <th>platform</th>\n",
       "      <th>sub_platform</th>\n",
       "      <th>latitude</th>\n",
       "      <th>longitude</th>\n",
       "      <th>city</th>\n",
       "      <th>country</th>\n",
       "      <th>active</th>\n",
       "      <th>standardized_name</th>\n",
       "      <th>restaurant_chain</th>\n",
       "      <th>delivery_radius</th>\n",
       "      <th>geom</th>\n",
       "      <th>group_id</th>\n",
       "      <th>state</th>\n",
       "    </tr>\n",
       "  </thead>\n",
       "  <tbody>\n",
       "    <tr>\n",
       "      <th>0</th>\n",
       "      <td>16705</td>\n",
       "      <td>mr goodcents subs &amp; pastas</td>\n",
       "      <td>delivery.com</td>\n",
       "      <td>NaN</td>\n",
       "      <td>38.897564</td>\n",
       "      <td>-94.779344</td>\n",
       "      <td>Johnson County</td>\n",
       "      <td>US</td>\n",
       "      <td>True</td>\n",
       "      <td>mr_goodcents_subs_pastas</td>\n",
       "      <td>NaN</td>\n",
       "      <td>NaN</td>\n",
       "      <td>NaN</td>\n",
       "      <td>0</td>\n",
       "      <td>Kansas</td>\n",
       "    </tr>\n",
       "    <tr>\n",
       "      <th>1</th>\n",
       "      <td>7166</td>\n",
       "      <td>mr. goodcents subs &amp; pastas</td>\n",
       "      <td>delivery.com</td>\n",
       "      <td>NaN</td>\n",
       "      <td>33.407333</td>\n",
       "      <td>-111.946760</td>\n",
       "      <td>Maricopa County</td>\n",
       "      <td>US</td>\n",
       "      <td>True</td>\n",
       "      <td>mr_goodcents_subs_pastas</td>\n",
       "      <td>NaN</td>\n",
       "      <td>NaN</td>\n",
       "      <td>NaN</td>\n",
       "      <td>0</td>\n",
       "      <td>Arizona</td>\n",
       "    </tr>\n",
       "    <tr>\n",
       "      <th>2</th>\n",
       "      <td>9812</td>\n",
       "      <td>the french bakery - 112th ave [disabled]</td>\n",
       "      <td>caviar</td>\n",
       "      <td>NaN</td>\n",
       "      <td>1.000000</td>\n",
       "      <td>-1.000000</td>\n",
       "      <td></td>\n",
       "      <td>GH</td>\n",
       "      <td>False</td>\n",
       "      <td>the_french_bakery_-_112th_ave_disabled</td>\n",
       "      <td>NaN</td>\n",
       "      <td>NaN</td>\n",
       "      <td>NaN</td>\n",
       "      <td>1</td>\n",
       "      <td>Western</td>\n",
       "    </tr>\n",
       "    <tr>\n",
       "      <th>3</th>\n",
       "      <td>9904</td>\n",
       "      <td>the french bakery - 112th ave [disabled!]</td>\n",
       "      <td>caviar</td>\n",
       "      <td>NaN</td>\n",
       "      <td>47.618223</td>\n",
       "      <td>-122.191230</td>\n",
       "      <td>King County</td>\n",
       "      <td>US</td>\n",
       "      <td>False</td>\n",
       "      <td>the_french_bakery_-_112th_ave_disabled</td>\n",
       "      <td>NaN</td>\n",
       "      <td>NaN</td>\n",
       "      <td>NaN</td>\n",
       "      <td>1</td>\n",
       "      <td>Washington</td>\n",
       "    </tr>\n",
       "    <tr>\n",
       "      <th>4</th>\n",
       "      <td>87772</td>\n",
       "      <td>k &amp; l delicatessen</td>\n",
       "      <td>delivery.com</td>\n",
       "      <td>NaN</td>\n",
       "      <td>40.749216</td>\n",
       "      <td>-73.889470</td>\n",
       "      <td>Queens County</td>\n",
       "      <td>US</td>\n",
       "      <td>True</td>\n",
       "      <td>k_l_delicatessen</td>\n",
       "      <td>NaN</td>\n",
       "      <td>NaN</td>\n",
       "      <td>NaN</td>\n",
       "      <td>2</td>\n",
       "      <td>New York</td>\n",
       "    </tr>\n",
       "    <tr>\n",
       "      <th>...</th>\n",
       "      <td>...</td>\n",
       "      <td>...</td>\n",
       "      <td>...</td>\n",
       "      <td>...</td>\n",
       "      <td>...</td>\n",
       "      <td>...</td>\n",
       "      <td>...</td>\n",
       "      <td>...</td>\n",
       "      <td>...</td>\n",
       "      <td>...</td>\n",
       "      <td>...</td>\n",
       "      <td>...</td>\n",
       "      <td>...</td>\n",
       "      <td>...</td>\n",
       "      <td>...</td>\n",
       "    </tr>\n",
       "    <tr>\n",
       "      <th>18351</th>\n",
       "      <td>85440</td>\n",
       "      <td>le's restaurant- allston</td>\n",
       "      <td>delivery.com</td>\n",
       "      <td>NaN</td>\n",
       "      <td>42.352947</td>\n",
       "      <td>-71.131117</td>\n",
       "      <td>Norfolk County</td>\n",
       "      <td>US</td>\n",
       "      <td>True</td>\n",
       "      <td>le_s_restaurant-_allston</td>\n",
       "      <td>NaN</td>\n",
       "      <td>NaN</td>\n",
       "      <td>NaN</td>\n",
       "      <td>16971</td>\n",
       "      <td>Massachusetts</td>\n",
       "    </tr>\n",
       "    <tr>\n",
       "      <th>18352</th>\n",
       "      <td>62212</td>\n",
       "      <td>organicdirect</td>\n",
       "      <td>delivery.com</td>\n",
       "      <td>NaN</td>\n",
       "      <td>40.638689</td>\n",
       "      <td>-73.926104</td>\n",
       "      <td>Kings County</td>\n",
       "      <td>US</td>\n",
       "      <td>False</td>\n",
       "      <td>organicdirect</td>\n",
       "      <td>NaN</td>\n",
       "      <td>NaN</td>\n",
       "      <td>NaN</td>\n",
       "      <td>16972</td>\n",
       "      <td>New York</td>\n",
       "    </tr>\n",
       "    <tr>\n",
       "      <th>18353</th>\n",
       "      <td>68647</td>\n",
       "      <td>pines of  florence</td>\n",
       "      <td>delivery.com</td>\n",
       "      <td>NaN</td>\n",
       "      <td>38.917776</td>\n",
       "      <td>-77.047258</td>\n",
       "      <td></td>\n",
       "      <td>US</td>\n",
       "      <td>True</td>\n",
       "      <td>pines_of_florence</td>\n",
       "      <td>NaN</td>\n",
       "      <td>NaN</td>\n",
       "      <td>NaN</td>\n",
       "      <td>16973</td>\n",
       "      <td>Washington, D.C.</td>\n",
       "    </tr>\n",
       "    <tr>\n",
       "      <th>18354</th>\n",
       "      <td>64778</td>\n",
       "      <td>locos grill &amp; pub</td>\n",
       "      <td>delivery.com</td>\n",
       "      <td>NaN</td>\n",
       "      <td>33.826853</td>\n",
       "      <td>-84.331843</td>\n",
       "      <td>DeKalb County</td>\n",
       "      <td>US</td>\n",
       "      <td>True</td>\n",
       "      <td>locos_grill_pub</td>\n",
       "      <td>NaN</td>\n",
       "      <td>NaN</td>\n",
       "      <td>NaN</td>\n",
       "      <td>16974</td>\n",
       "      <td>Georgia</td>\n",
       "    </tr>\n",
       "    <tr>\n",
       "      <th>18355</th>\n",
       "      <td>90437</td>\n",
       "      <td>thai touch restaurant</td>\n",
       "      <td>delivery.com</td>\n",
       "      <td>NaN</td>\n",
       "      <td>34.142640</td>\n",
       "      <td>-118.236240</td>\n",
       "      <td>Los Angeles County</td>\n",
       "      <td>US</td>\n",
       "      <td>False</td>\n",
       "      <td>thai_touch_restaurant</td>\n",
       "      <td>NaN</td>\n",
       "      <td>NaN</td>\n",
       "      <td>NaN</td>\n",
       "      <td>16975</td>\n",
       "      <td>California</td>\n",
       "    </tr>\n",
       "  </tbody>\n",
       "</table>\n",
       "<p>18356 rows × 15 columns</p>\n",
       "</div>"
      ],
      "text/plain": [
       "      restaurant_id                                       name      platform  \\\n",
       "0             16705                 mr goodcents subs & pastas  delivery.com   \n",
       "1              7166                mr. goodcents subs & pastas  delivery.com   \n",
       "2              9812   the french bakery - 112th ave [disabled]        caviar   \n",
       "3              9904  the french bakery - 112th ave [disabled!]        caviar   \n",
       "4             87772                         k & l delicatessen  delivery.com   \n",
       "...             ...                                        ...           ...   \n",
       "18351         85440                   le's restaurant- allston  delivery.com   \n",
       "18352         62212                              organicdirect  delivery.com   \n",
       "18353         68647                         pines of  florence  delivery.com   \n",
       "18354         64778                          locos grill & pub  delivery.com   \n",
       "18355         90437                      thai touch restaurant  delivery.com   \n",
       "\n",
       "      sub_platform   latitude   longitude                city country  active  \\\n",
       "0              NaN  38.897564  -94.779344      Johnson County      US    True   \n",
       "1              NaN  33.407333 -111.946760     Maricopa County      US    True   \n",
       "2              NaN   1.000000   -1.000000                          GH   False   \n",
       "3              NaN  47.618223 -122.191230         King County      US   False   \n",
       "4              NaN  40.749216  -73.889470       Queens County      US    True   \n",
       "...            ...        ...         ...                 ...     ...     ...   \n",
       "18351          NaN  42.352947  -71.131117      Norfolk County      US    True   \n",
       "18352          NaN  40.638689  -73.926104        Kings County      US   False   \n",
       "18353          NaN  38.917776  -77.047258                          US    True   \n",
       "18354          NaN  33.826853  -84.331843       DeKalb County      US    True   \n",
       "18355          NaN  34.142640 -118.236240  Los Angeles County      US   False   \n",
       "\n",
       "                            standardized_name restaurant_chain  \\\n",
       "0                    mr_goodcents_subs_pastas              NaN   \n",
       "1                    mr_goodcents_subs_pastas              NaN   \n",
       "2      the_french_bakery_-_112th_ave_disabled              NaN   \n",
       "3      the_french_bakery_-_112th_ave_disabled              NaN   \n",
       "4                            k_l_delicatessen              NaN   \n",
       "...                                       ...              ...   \n",
       "18351                le_s_restaurant-_allston              NaN   \n",
       "18352                           organicdirect              NaN   \n",
       "18353                       pines_of_florence              NaN   \n",
       "18354                         locos_grill_pub              NaN   \n",
       "18355                   thai_touch_restaurant              NaN   \n",
       "\n",
       "      delivery_radius  geom  group_id             state  \n",
       "0                 NaN   NaN         0            Kansas  \n",
       "1                 NaN   NaN         0           Arizona  \n",
       "2                 NaN   NaN         1           Western  \n",
       "3                 NaN   NaN         1        Washington  \n",
       "4                 NaN   NaN         2          New York  \n",
       "...               ...   ...       ...               ...  \n",
       "18351             NaN   NaN     16971     Massachusetts  \n",
       "18352             NaN   NaN     16972          New York  \n",
       "18353             NaN   NaN     16973  Washington, D.C.  \n",
       "18354             NaN   NaN     16974           Georgia  \n",
       "18355             NaN   NaN     16975        California  \n",
       "\n",
       "[18356 rows x 15 columns]"
      ]
     },
     "execution_count": 11,
     "metadata": {},
     "output_type": "execute_result"
    }
   ],
   "source": [
    "df_ready = get_city_state_country(df)\n",
    "df_ready"
   ]
  },
  {
   "cell_type": "markdown",
   "metadata": {},
   "source": [
    "### Save it to csv file"
   ]
  },
  {
   "cell_type": "code",
   "execution_count": 12,
   "metadata": {},
   "outputs": [],
   "source": [
    "df_ready.to_csv('clean_restaurant_list_sample.csv')"
   ]
  },
  {
   "cell_type": "markdown",
   "metadata": {},
   "source": [
    "### Dataset is ready! 🎉"
   ]
  },
  {
   "cell_type": "markdown",
   "metadata": {},
   "source": [
    "## 4. Exploratory analysis"
   ]
  },
  {
   "cell_type": "markdown",
   "metadata": {},
   "source": []
  },
  {
   "cell_type": "code",
   "execution_count": null,
   "metadata": {},
   "outputs": [],
   "source": []
  }
 ],
 "metadata": {
  "kernelspec": {
   "display_name": "Python 3.8.12 64-bit ('shims')",
   "language": "python",
   "name": "python3"
  },
  "language_info": {
   "codemirror_mode": {
    "name": "ipython",
    "version": 3
   },
   "file_extension": ".py",
   "mimetype": "text/x-python",
   "name": "python",
   "nbconvert_exporter": "python",
   "pygments_lexer": "ipython3",
   "version": "3.8.12"
  },
  "orig_nbformat": 4,
  "vscode": {
   "interpreter": {
    "hash": "fa9bc988b15c7e5dff69e8924a8d3198cdceacef29de1e5a2e4117b745a47a04"
   }
  }
 },
 "nbformat": 4,
 "nbformat_minor": 2
}
